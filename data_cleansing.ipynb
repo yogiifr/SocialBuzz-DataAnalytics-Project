{
 "cells": [
  {
   "cell_type": "code",
   "execution_count": 1,
   "metadata": {},
   "outputs": [],
   "source": [
    "import pandas as pd"
   ]
  },
  {
   "cell_type": "code",
   "execution_count": 100,
   "metadata": {},
   "outputs": [],
   "source": [
    "content = \"raw_dataset/Content.csv\"\n",
    "reactions = \"raw_dataset/Reactions.csv\"\n",
    "reactions_types = \"raw_dataset/ReactionTypes.csv\""
   ]
  },
  {
   "cell_type": "markdown",
   "metadata": {},
   "source": [
    "### Cleaning Content Dataset"
   ]
  },
  {
   "cell_type": "code",
   "execution_count": 93,
   "metadata": {},
   "outputs": [],
   "source": [
    "df_content = pd.read_csv(content)\n",
    "df_content = df_content.drop('User ID', axis=1)\n",
    "df_content = df_content.drop('URL', axis=1)\n",
    "df_content['Category'].str.replace('\"', '')\n",
    "df_content.rename(columns={'Type': 'Content Type'}, inplace=True)\n",
    "df_content.head()\n",
    "df_content.to_csv('cleaned_dataset/cleaned_content.csv', index=False)"
   ]
  },
  {
   "cell_type": "markdown",
   "metadata": {},
   "source": [
    "### Cleaning Reactions Dataset"
   ]
  },
  {
   "cell_type": "code",
   "execution_count": 97,
   "metadata": {},
   "outputs": [],
   "source": [
    "df_reactions = pd.read_csv(reactions)\n",
    "df_reactions = df_reactions.drop('User ID', axis=1)\n",
    "df_reactions.dropna(subset=['Type'])\n",
    "df_reactions.rename(columns={'Type':'Reaction Type'}, inplace=True)\n",
    "df_reactions.head()\n",
    "df_reactions.to_csv('cleaned_dataset/cleaned_reactions.csv', index=False)"
   ]
  },
  {
   "cell_type": "markdown",
   "metadata": {},
   "source": [
    "### Cleaning ReactionType Dataset"
   ]
  },
  {
   "cell_type": "code",
   "execution_count": 102,
   "metadata": {},
   "outputs": [],
   "source": [
    "df_reactype = pd.read_csv(reactions_types)\n",
    "df_reactype.rename(columns={'Type':'Reaction Type'}, inplace=True)\n",
    "df_reactype.to_csv('cleaned_dataset/cleaned_reaction_types.csv', index=False)\n"
   ]
  },
  {
   "cell_type": "markdown",
   "metadata": {},
   "source": [
    "### Data Modelling"
   ]
  },
  {
   "cell_type": "code",
   "execution_count": 108,
   "metadata": {},
   "outputs": [
    {
     "name": "stdout",
     "output_type": "stream",
     "text": [
      "Top 5 Performing Categories:\n",
      "Category\n",
      "animals           69548\n",
      "healthy eating    69067\n",
      "technology        67472\n",
      "science           66043\n",
      "cooking           63982\n",
      "Name: Score, dtype: int64\n"
     ]
    }
   ],
   "source": [
    "import pandas as pd\n",
    "\n",
    "# Assuming you have three cleaned tables: cleaned_content, cleaned_reaction_types, cleaned_reactions\n",
    "# Read the tables into Pandas DataFrames\n",
    "content_df = pd.read_csv('cleaned_dataset/cleaned_content.csv')\n",
    "reaction_types_df = pd.read_csv('cleaned_dataset/cleaned_reaction_types.csv')\n",
    "reactions_df = pd.read_csv('cleaned_dataset/cleaned_reactions.csv')\n",
    "\n",
    "# Merge tables using pandas merge function\n",
    "merged_df = pd.merge(reactions_df, content_df, on='Content ID')  # Replace 'common_column' with the column you want to merge on\n",
    "merged_df = pd.merge(merged_df, reaction_types_df, on='Reaction Type')  # Replace 'common_column' with the column you want to merge on\n",
    "\n",
    "# Calculate the total scores for each category\n",
    "category_scores = merged_df.groupby('Category')['Score'].sum()\n",
    "\n",
    "# Sort the categories in descending order based on the total scores\n",
    "sorted_categories = category_scores.sort_values(ascending=False)\n",
    "\n",
    "# Display the top 5 performing categories\n",
    "top5_categories = sorted_categories.head(5)\n",
    "\n",
    "# Print the result\n",
    "print(\"Top 5 Performing Categories:\")\n",
    "print(top5_categories)\n",
    "\n",
    "# Save the sorted DataFrame to a CSV file if needed\n",
    "sorted_df = merged_df.sort_values(by='Score', ascending=False)\n",
    "sorted_df.to_csv('cleaned_dataset/sorted_final_dataset.csv', index=False)\n"
   ]
  },
  {
   "cell_type": "code",
   "execution_count": null,
   "metadata": {},
   "outputs": [],
   "source": []
  }
 ],
 "metadata": {
  "kernelspec": {
   "display_name": "Python 3",
   "language": "python",
   "name": "python3"
  },
  "language_info": {
   "codemirror_mode": {
    "name": "ipython",
    "version": 3
   },
   "file_extension": ".py",
   "mimetype": "text/x-python",
   "name": "python",
   "nbconvert_exporter": "python",
   "pygments_lexer": "ipython3",
   "version": "3.9.13"
  }
 },
 "nbformat": 4,
 "nbformat_minor": 2
}
